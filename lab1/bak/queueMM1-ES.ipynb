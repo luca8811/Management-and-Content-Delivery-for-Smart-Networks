{
 "cells": [
  {
   "cell_type": "code",
   "id": "initial_id",
   "metadata": {
    "collapsed": true,
    "ExecuteTime": {
     "end_time": "2024-04-10T18:17:45.395508Z",
     "start_time": "2024-04-10T18:17:45.393005Z"
    }
   },
   "source": [
    "import random\n",
    "from queue import Queue, PriorityQueue\n",
    "import numpy as np"
   ],
   "outputs": [],
   "execution_count": 31
  },
  {
   "cell_type": "markdown",
   "source": [
    "### Control Plane"
   ],
   "metadata": {
    "collapsed": false
   },
   "id": "6ecf95b16e563260"
  },
  {
   "cell_type": "code",
   "source": [
    "SERVICE = 10.0  # SERVICE is the average service time; service rate = 1/SERVICE\n",
    "ARRIVAL = 3.0  # ARRIVAL is the average inter-arrival time; arrival rate = 1/ARRIVAL\n",
    "LOAD = SERVICE / ARRIVAL  # This relationship holds for M/M/1\n",
    "BUFFER_SIZE = 100  # Infinite buffer -> 0\n",
    "m_SERVERS = 1\n",
    "\n",
    "TYPE1 = 1\n",
    "\n",
    "SIM_TIME = 500000"
   ],
   "metadata": {
    "collapsed": false,
    "ExecuteTime": {
     "end_time": "2024-04-10T18:17:45.436783Z",
     "start_time": "2024-04-10T18:17:45.432335Z"
    }
   },
   "id": "5c35e511b8428b1e",
   "outputs": [],
   "execution_count": 32
  },
  {
   "cell_type": "markdown",
   "source": [
    "### To take the measurements"
   ],
   "metadata": {
    "collapsed": false
   },
   "id": "e421cd4936c02de5"
  },
  {
   "cell_type": "code",
   "source": [
    "class Measure:\n",
    "    def __init__(self, Narr, Ndep, Nlos, NAverageUser, OldTimeEvent, AverageDelay):\n",
    "        self.arr = Narr\n",
    "        self.dep = Ndep\n",
    "        self.los = Nlos\n",
    "        self.ut = NAverageUser\n",
    "        self.oldT = OldTimeEvent\n",
    "        self.delay = AverageDelay"
   ],
   "metadata": {
    "collapsed": false,
    "ExecuteTime": {
     "end_time": "2024-04-10T18:17:45.466179Z",
     "start_time": "2024-04-10T18:17:45.462319Z"
    }
   },
   "id": "bf78a7baf254d838",
   "outputs": [],
   "execution_count": 33
  },
  {
   "cell_type": "markdown",
   "source": [
    "### Client"
   ],
   "metadata": {
    "collapsed": false
   },
   "id": "45316b838e54b9e1"
  },
  {
   "cell_type": "code",
   "source": [
    "class Client:\n",
    "    def __init__(self, type, arrival_time):\n",
    "        self.type = type\n",
    "        self.arrival_time = arrival_time"
   ],
   "metadata": {
    "collapsed": false,
    "ExecuteTime": {
     "end_time": "2024-04-10T18:17:45.495159Z",
     "start_time": "2024-04-10T18:17:45.491647Z"
    }
   },
   "id": "e390be2a86a52c54",
   "outputs": [],
   "execution_count": 34
  },
  {
   "cell_type": "markdown",
   "source": [
    "### Server"
   ],
   "metadata": {
    "collapsed": false
   },
   "id": "b9df402530b620ad"
  },
  {
   "cell_type": "code",
   "source": [
    "class Server(object):\n",
    "    # constructor\n",
    "    def __init__(self, service_time):\n",
    "        self.idle = True  # whether the server is idle or not\n",
    "        self.service_time = service_time  # service period specific for this server"
   ],
   "metadata": {
    "collapsed": false,
    "ExecuteTime": {
     "end_time": "2024-04-10T18:17:45.500896Z",
     "start_time": "2024-04-10T18:17:45.497166Z"
    }
   },
   "id": "d331966687c8016f",
   "outputs": [],
   "execution_count": 35
  },
  {
   "cell_type": "code",
   "source": [
    "class MMmB:\n",
    "    def __init__(self, service_time, servers_count=1, buffer_size=0):\n",
    "        self.buffer_size = buffer_size  # B\n",
    "        self.service_time = service_time  # mu\n",
    "        self._queue: list[Client] = []\n",
    "        self._servers_count = servers_count\n",
    "        self._servers_working = 0\n",
    "\n",
    "    def servers_count(self): return self._servers_count\n",
    "\n",
    "    def servers_working(self): return self._servers_working\n",
    "\n",
    "    def queue_size(self): return len(self._queue)\n",
    "\n",
    "    def is_full(self): return self.queue_size() == self.buffer_size > 0\n",
    "    \n",
    "    def servers_busy(self): return self._servers_working == self._servers_count\n",
    "\n",
    "    def insert(self, event: Client):\n",
    "        if self.is_full():\n",
    "            return False\n",
    "        self._queue.append(event)\n",
    "        self._servers_working += 1\n",
    "        return True\n",
    "\n",
    "    def consume(self):\n",
    "        if self.servers_working() <= 0:\n",
    "            return None\n",
    "        self._servers_working -= 1\n",
    "        return self._queue.pop()"
   ],
   "metadata": {
    "collapsed": false,
    "ExecuteTime": {
     "end_time": "2024-04-10T18:17:45.516381Z",
     "start_time": "2024-04-10T18:17:45.510904Z"
    }
   },
   "id": "54ee86bb69a5ed4e",
   "outputs": [],
   "execution_count": 36
  },
  {
   "cell_type": "markdown",
   "source": [
    "### Variables"
   ],
   "metadata": {
    "collapsed": false
   },
   "id": "35ea23efd8b06f6c"
  },
  {
   "cell_type": "code",
   "source": [
    "arrivals = 0\n",
    "users = 0\n",
    "\n",
    "MMm = MMmB(SERVICE, m_SERVERS, BUFFER_SIZE)"
   ],
   "metadata": {
    "collapsed": false,
    "ExecuteTime": {
     "end_time": "2024-04-10T18:17:45.526293Z",
     "start_time": "2024-04-10T18:17:45.522550Z"
    }
   },
   "id": "47ee3d96af4d43ba",
   "outputs": [],
   "execution_count": 37
  },
  {
   "cell_type": "markdown",
   "source": [
    "### Arrivals"
   ],
   "metadata": {
    "collapsed": false
   },
   "id": "578951c9dd2c4a44"
  },
  {
   "cell_type": "code",
   "source": [
    "def arrival(time, FES, queue: MMmB):\n",
    "    global users\n",
    "\n",
    "    # print(\"Arrival no. \",data.arr+1,\" at time \",time,\" with \",users,\" users\" )\n",
    "\n",
    "    # loss detection\n",
    "    loss = queue.is_full()\n",
    "\n",
    "    # cumulate statistics\n",
    "    data.arr += 1\n",
    "    data.ut += users * (time - data.oldT)  # average users per time unit\n",
    "    data.oldT = time\n",
    "    if loss:\n",
    "        data.los += 1\n",
    "    else:\n",
    "        users += 1\n",
    "        # create a record for the client\n",
    "        client = Client(TYPE1, time)\n",
    "        # insert the record in the queue\n",
    "        queue.insert(client)\n",
    "\n",
    "    # sample the time until the next event\n",
    "    inter_arrival = random.expovariate(lambd=1.0 / ARRIVAL)\n",
    "\n",
    "    # schedule the next arrival\n",
    "    FES.put((time + inter_arrival, \"arrival\"))\n",
    "\n",
    "    # if the server is idle start the service\n",
    "    if not MMm.servers_busy():\n",
    "        # sample the service time\n",
    "        service_time = random.expovariate(1.0 / MMm.service_time)\n",
    "        # service_time = 1 + random.uniform(0, SEVICE_TIME)\n",
    "\n",
    "        # schedule when the client will finish the service\n",
    "        FES.put((time + service_time, \"departure\"))"
   ],
   "metadata": {
    "collapsed": false,
    "ExecuteTime": {
     "end_time": "2024-04-10T18:17:45.558345Z",
     "start_time": "2024-04-10T18:17:45.552658Z"
    }
   },
   "id": "1781c4459b8a7037",
   "outputs": [],
   "execution_count": 38
  },
  {
   "cell_type": "markdown",
   "source": [
    "### Departures"
   ],
   "metadata": {
    "collapsed": false
   },
   "id": "f59e683e873a2350"
  },
  {
   "cell_type": "code",
   "source": [
    "def departure(time, FES, queue: MMmB):\n",
    "    global users\n",
    "\n",
    "    # print(\"Departure no. \",data.dep+1,\" at time \",time,\" with \",users,\" users\" )\n",
    "\n",
    "    # get the first element from the queue\n",
    "    client = queue.consume()\n",
    "\n",
    "    # cumulate statistics\n",
    "    data.dep += 1\n",
    "    data.ut += users * (time - data.oldT)\n",
    "    data.oldT = time\n",
    "\n",
    "    # do whatever we need to do when clients go away\n",
    "\n",
    "    data.delay += (time - client.arrival_time)\n",
    "    users -= 1\n",
    "\n",
    "    # see whether there are more clients to in the line\n",
    "    if users > 0:\n",
    "        # sample the service time\n",
    "        service_time = random.expovariate(1.0 / SERVICE)\n",
    "\n",
    "        # schedule when the client will finish the service\n",
    "        FES.put((time + service_time, \"departure\"))"
   ],
   "metadata": {
    "collapsed": false,
    "ExecuteTime": {
     "end_time": "2024-04-10T18:17:45.565186Z",
     "start_time": "2024-04-10T18:17:45.560352Z"
    }
   },
   "id": "534db5db10fc827a",
   "outputs": [],
   "execution_count": 39
  },
  {
   "cell_type": "markdown",
   "source": [
    "## Main"
   ],
   "metadata": {
    "collapsed": false
   },
   "id": "5ecd5b50d5d59424"
  },
  {
   "cell_type": "code",
   "source": [
    "random.seed(42)\n",
    "\n",
    "data = Measure(0, 0, 0, 0, 0, 0)\n",
    "\n",
    "# the simulation time \n",
    "time = 0\n",
    "\n",
    "# the list of events in the form: (time, type)\n",
    "FES = PriorityQueue()\n",
    "\n",
    "# schedule the first arrival at t=0\n",
    "FES.put((0, \"arrival\"))\n",
    "\n",
    "# simulate until the simulated time reaches a constant\n",
    "while time < SIM_TIME:\n",
    "    (time, event_type) = FES.get()\n",
    "\n",
    "    if event_type == \"arrival\":\n",
    "        arrival(time, FES, MMm)\n",
    "\n",
    "    elif event_type == \"departure\":\n",
    "        departure(time, FES, MMm)\n",
    "\n",
    "# print output data\n",
    "print(\"MEASUREMENTS \\n\\nNo. of users in the queue:\", users, \"\\nNo. of arrivals =\",\n",
    "      data.arr, \"- No. of departures =\", data.dep)\n",
    "\n",
    "print(\"Load: \", SERVICE / ARRIVAL)\n",
    "print(\"\\nArrival rate: \", data.arr / time, \" - Departure rate: \", data.dep / time)\n",
    "print(\"Loss rate: \", data.los / time, \" - Packets loss: \", data.los)\n",
    "\n",
    "print(\"\\nAverage number of users: \", data.ut / time)\n",
    "\n",
    "print(\"Average delay: \", data.delay / data.dep)\n",
    "print(\"Actual queue size: \", len(MMm.queue_size()))\n",
    "\n",
    "if MMm.queue_size() > 0:\n",
    "    print(\"Arrival time of the last element in the queue:\", MMm.queue[-1].arrival_time)\n"
   ],
   "metadata": {
    "collapsed": false,
    "ExecuteTime": {
     "end_time": "2024-04-10T18:17:45.612135Z",
     "start_time": "2024-04-10T18:17:45.584699Z"
    }
   },
   "id": "441563e8ba5cb8e1",
   "outputs": [
    {
     "name": "stdout",
     "output_type": "stream",
     "text": [
      "4\n",
      "3\n",
      "4\n",
      "4\n",
      "3\n",
      "2\n",
      "3\n",
      "2\n",
      "2\n",
      "1\n",
      "0\n"
     ]
    },
    {
     "ename": "AttributeError",
     "evalue": "'NoneType' object has no attribute 'arrival_time'",
     "output_type": "error",
     "traceback": [
      "\u001B[1;31m---------------------------------------------------------------------------\u001B[0m",
      "\u001B[1;31mAttributeError\u001B[0m                            Traceback (most recent call last)",
      "Cell \u001B[1;32mIn[40], line 22\u001B[0m\n\u001B[0;32m     19\u001B[0m         arrival(time, FES, MMm)\n\u001B[0;32m     21\u001B[0m     \u001B[38;5;28;01melif\u001B[39;00m event_type \u001B[38;5;241m==\u001B[39m \u001B[38;5;124m\"\u001B[39m\u001B[38;5;124mdeparture\u001B[39m\u001B[38;5;124m\"\u001B[39m:\n\u001B[1;32m---> 22\u001B[0m         \u001B[43mdeparture\u001B[49m\u001B[43m(\u001B[49m\u001B[43mtime\u001B[49m\u001B[43m,\u001B[49m\u001B[43m \u001B[49m\u001B[43mFES\u001B[49m\u001B[43m,\u001B[49m\u001B[43m \u001B[49m\u001B[43mMMm\u001B[49m\u001B[43m)\u001B[49m\n\u001B[0;32m     24\u001B[0m \u001B[38;5;66;03m# print output data\u001B[39;00m\n\u001B[0;32m     25\u001B[0m \u001B[38;5;28mprint\u001B[39m(\u001B[38;5;124m\"\u001B[39m\u001B[38;5;124mMEASUREMENTS \u001B[39m\u001B[38;5;130;01m\\n\u001B[39;00m\u001B[38;5;130;01m\\n\u001B[39;00m\u001B[38;5;124mNo. of users in the queue:\u001B[39m\u001B[38;5;124m\"\u001B[39m, users, \u001B[38;5;124m\"\u001B[39m\u001B[38;5;130;01m\\n\u001B[39;00m\u001B[38;5;124mNo. of arrivals =\u001B[39m\u001B[38;5;124m\"\u001B[39m,\n\u001B[0;32m     26\u001B[0m       data\u001B[38;5;241m.\u001B[39marr, \u001B[38;5;124m\"\u001B[39m\u001B[38;5;124m- No. of departures =\u001B[39m\u001B[38;5;124m\"\u001B[39m, data\u001B[38;5;241m.\u001B[39mdep)\n",
      "Cell \u001B[1;32mIn[39], line 16\u001B[0m, in \u001B[0;36mdeparture\u001B[1;34m(time, FES, queue)\u001B[0m\n\u001B[0;32m     12\u001B[0m data\u001B[38;5;241m.\u001B[39moldT \u001B[38;5;241m=\u001B[39m time\n\u001B[0;32m     14\u001B[0m \u001B[38;5;66;03m# do whatever we need to do when clients go away\u001B[39;00m\n\u001B[1;32m---> 16\u001B[0m data\u001B[38;5;241m.\u001B[39mdelay \u001B[38;5;241m+\u001B[39m\u001B[38;5;241m=\u001B[39m (time \u001B[38;5;241m-\u001B[39m \u001B[43mclient\u001B[49m\u001B[38;5;241;43m.\u001B[39;49m\u001B[43marrival_time\u001B[49m)\n\u001B[0;32m     17\u001B[0m users \u001B[38;5;241m-\u001B[39m\u001B[38;5;241m=\u001B[39m \u001B[38;5;241m1\u001B[39m\n\u001B[0;32m     19\u001B[0m \u001B[38;5;66;03m# see whether there are more clients to in the line\u001B[39;00m\n",
      "\u001B[1;31mAttributeError\u001B[0m: 'NoneType' object has no attribute 'arrival_time'"
     ]
    }
   ],
   "execution_count": 40
  },
  {
   "cell_type": "code",
   "source": [],
   "metadata": {
    "collapsed": false
   },
   "id": "a6b8ca8f4872a64a",
   "outputs": [],
   "execution_count": null
  }
 ],
 "metadata": {
  "kernelspec": {
   "display_name": "Python 3",
   "language": "python",
   "name": "python3"
  },
  "language_info": {
   "codemirror_mode": {
    "name": "ipython",
    "version": 2
   },
   "file_extension": ".py",
   "mimetype": "text/x-python",
   "name": "python",
   "nbconvert_exporter": "python",
   "pygments_lexer": "ipython2",
   "version": "2.7.6"
  }
 },
 "nbformat": 4,
 "nbformat_minor": 5
}
