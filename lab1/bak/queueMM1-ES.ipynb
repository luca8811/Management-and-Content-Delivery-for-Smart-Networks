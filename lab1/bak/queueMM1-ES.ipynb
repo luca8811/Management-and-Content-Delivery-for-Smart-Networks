{
 "cells": [
  {
   "cell_type": "code",
   "id": "initial_id",
   "metadata": {
    "collapsed": true,
    "ExecuteTime": {
     "end_time": "2024-04-10T18:17:45.395508Z",
     "start_time": "2024-04-10T18:17:45.393005Z"
    }
   },
   "source": [
    "import random\n",
    "from queue import Queue, PriorityQueue\n",
    "import numpy as np"
   ],
   "execution_count": 31,
   "outputs": []
  },
  {
   "cell_type": "markdown",
   "source": [
    "### Control Plane"
   ],
   "metadata": {
    "collapsed": false
   },
   "id": "6ecf95b16e563260"
  },
  {
   "cell_type": "code",
   "source": [
    "SERVICE = 10.0  # SERVICE is the average service time; service rate = 1/SERVICE\n",
    "ARRIVAL = 3.0  # ARRIVAL is the average inter-arrival time; arrival rate = 1/ARRIVAL\n",
    "LOAD = SERVICE / ARRIVAL  # This relationship holds for M/M/1\n",
    "BUFFER_SIZE = 100  # Infinite buffer -> 0\n",
    "m_SERVERS = 1\n",
    "\n",
    "TYPE1 = 1\n",
    "\n",
    "SIM_TIME = 500000"
   ],
   "metadata": {
    "collapsed": false,
    "ExecuteTime": {
     "end_time": "2024-04-10T18:17:45.436783Z",
     "start_time": "2024-04-10T18:17:45.432335Z"
    }
   },
   "id": "5c35e511b8428b1e",
   "execution_count": 32,
   "outputs": []
  },
  {
   "cell_type": "markdown",
   "source": [
    "### To take the measurements"
   ],
   "metadata": {
    "collapsed": false
   },
   "id": "e421cd4936c02de5"
  },
  {
   "cell_type": "code",
   "source": [
    "class Measure:\n",
    "    def __init__(self, Narr, Ndep, Nlos, NAverageUser, OldTimeEvent, AverageDelay):\n",
    "        self.arr = Narr\n",
    "        self.dep = Ndep\n",
    "        self.los = Nlos\n",
    "        self.ut = NAverageUser\n",
    "        self.oldT = OldTimeEvent\n",
    "        self.delay = AverageDelay"
   ],
   "metadata": {
    "collapsed": false,
    "ExecuteTime": {
     "end_time": "2024-04-10T18:17:45.466179Z",
     "start_time": "2024-04-10T18:17:45.462319Z"
    }
   },
   "id": "bf78a7baf254d838",
   "execution_count": 33,
   "outputs": []
  },
  {
   "cell_type": "markdown",
   "source": [
    "### Client"
   ],
   "metadata": {
    "collapsed": false
   },
   "id": "45316b838e54b9e1"
  },
  {
   "cell_type": "code",
   "source": [
    "class Client:\n",
    "    def __init__(self, type, arrival_time):\n",
    "        self.type = type\n",
    "        self.arrival_time = arrival_time"
   ],
   "metadata": {
    "collapsed": false,
    "ExecuteTime": {
     "end_time": "2024-04-10T18:17:45.495159Z",
     "start_time": "2024-04-10T18:17:45.491647Z"
    }
   },
   "id": "e390be2a86a52c54",
   "execution_count": 34,
   "outputs": []
  },
  {
   "cell_type": "markdown",
   "source": [
    "### Server"
   ],
   "metadata": {
    "collapsed": false
   },
   "id": "b9df402530b620ad"
  },
  {
   "cell_type": "code",
   "source": [
    "class Server(object):\n",
    "    # constructor\n",
    "    def __init__(self, service_time):\n",
    "        self.idle = True  # whether the server is idle or not\n",
    "        self.service_time = service_time  # service period specific for this server"
   ],
   "metadata": {
    "collapsed": false,
    "ExecuteTime": {
     "end_time": "2024-04-10T18:17:45.500896Z",
     "start_time": "2024-04-10T18:17:45.497166Z"
    }
   },
   "id": "d331966687c8016f",
   "execution_count": 35,
   "outputs": []
  },
  {
   "cell_type": "code",
   "source": [
    "class MMmB:\n",
    "    def __init__(self, service_time, servers_count=1, buffer_size=0):\n",
    "        self.buffer_size = buffer_size  # B\n",
    "        self.service_time = service_time  # mu\n",
    "        self._queue: list[Client] = []\n",
    "        self._servers_count = servers_count\n",
    "        self._servers_working = 0\n",
    "\n",
    "    def servers_count(self): return self._servers_count\n",
    "\n",
    "    def servers_working(self): return self._servers_working\n",
    "\n",
    "    def queue_size(self): return len(self._queue)\n",
    "\n",
    "    def is_full(self): return self.queue_size() == self.buffer_size > 0\n",
    "    \n",
    "    def servers_busy(self): return self._servers_working == self._servers_count\n",
    "\n",
    "    def insert(self, event: Client):\n",
    "        if self.is_full():\n",
    "            return False\n",
    "        self._queue.append(event)\n",
    "        self._servers_working += 1\n",
    "        return True\n",
    "\n",
    "    def consume(self):\n",
    "        if self.servers_working() <= 0:\n",
    "            return None\n",
    "        self._servers_working -= 1\n",
    "        return self._queue.pop()"
   ],
   "metadata": {
    "collapsed": false,
    "ExecuteTime": {
     "end_time": "2024-04-10T18:17:45.516381Z",
     "start_time": "2024-04-10T18:17:45.510904Z"
    }
   },
   "id": "54ee86bb69a5ed4e",
   "execution_count": 36,
   "outputs": []
  },
  {
   "cell_type": "markdown",
   "source": [
    "### Variables"
   ],
   "metadata": {
    "collapsed": false
   },
   "id": "35ea23efd8b06f6c"
  },
  {
   "cell_type": "code",
   "source": [
    "arrivals = 0\n",
    "users = 0\n",
    "\n",
    "MMm = MMmB(SERVICE, m_SERVERS, BUFFER_SIZE)"
   ],
   "metadata": {
    "collapsed": false,
    "ExecuteTime": {
     "end_time": "2024-04-10T18:17:45.526293Z",
     "start_time": "2024-04-10T18:17:45.522550Z"
    }
   },
   "id": "47ee3d96af4d43ba",
   "execution_count": 37,
   "outputs": []
  },
  {
   "cell_type": "markdown",
   "source": [
    "### Arrivals"
   ],
   "metadata": {
    "collapsed": false
   },
   "id": "578951c9dd2c4a44"
  },
  {
   "cell_type": "code",
   "source": [
    "def arrival(time, FES, queue: MMmB):\n",
    "    global users\n",
    "\n",
    "    # print(\"Arrival no. \",data.arr+1,\" at time \",time,\" with \",users,\" users\" )\n",
    "\n",
    "    # loss detection\n",
    "    loss = queue.is_full()\n",
    "\n",
    "    # cumulate statistics\n",
    "    data.arr += 1\n",
    "    data.ut += users * (time - data.oldT)  # average users per time unit\n",
    "    data.oldT = time\n",
    "    if loss:\n",
    "        data.los += 1\n",
    "    else:\n",
    "        users += 1\n",
    "        # create a record for the client\n",
    "        client = Client(TYPE1, time)\n",
    "        # insert the record in the queue\n",
    "        queue.insert(client)\n",
    "\n",
    "    # sample the time until the next event\n",
    "    inter_arrival = random.expovariate(lambd=1.0 / ARRIVAL)\n",
    "\n",
    "    # schedule the next arrival\n",
    "    FES.put((time + inter_arrival, \"arrival\"))\n",
    "\n",
    "    # if the server is idle start the service\n",
    "    if not MMm.servers_busy():\n",
    "        # sample the service time\n",
    "        service_time = random.expovariate(1.0 / MMm.service_time)\n",
    "        # service_time = 1 + random.uniform(0, SEVICE_TIME)\n",
    "\n",
    "        # schedule when the client will finish the service\n",
    "        FES.put((time + service_time, \"departure\"))"
   ],
   "metadata": {
    "collapsed": false,
    "ExecuteTime": {
     "end_time": "2024-04-10T18:17:45.558345Z",
     "start_time": "2024-04-10T18:17:45.552658Z"
    }
   },
   "id": "1781c4459b8a7037",
   "execution_count": 38,
   "outputs": []
  },
  {
   "cell_type": "markdown",
   "source": [
    "### Departures"
   ],
   "metadata": {
    "collapsed": false
   },
   "id": "f59e683e873a2350"
  },
  {
   "cell_type": "code",
   "source": [
    "def departure(time, FES, queue: MMmB):\n",
    "    global users\n",
    "\n",
    "    # print(\"Departure no. \",data.dep+1,\" at time \",time,\" with \",users,\" users\" )\n",
    "\n",
    "    # get the first element from the queue\n",
    "    client = queue.consume()\n",
    "\n",
    "    # cumulate statistics\n",
    "    data.dep += 1\n",
    "    data.ut += users * (time - data.oldT)\n",
    "    data.oldT = time\n",
    "\n",
    "    # do whatever we need to do when clients go away\n",
    "\n",
    "    data.delay += (time - client.arrival_time)\n",
    "    users -= 1\n",
    "\n",
    "    # see whether there are more clients to in the line\n",
    "    if users > 0:\n",
    "        # sample the service time\n",
    "        service_time = random.expovariate(1.0 / SERVICE)\n",
    "\n",
    "        # schedule when the client will finish the service\n",
    "        FES.put((time + service_time, \"departure\"))"
   ],
   "metadata": {
    "collapsed": false,
    "ExecuteTime": {
     "end_time": "2024-04-10T18:17:45.565186Z",
     "start_time": "2024-04-10T18:17:45.560352Z"
    }
   },
   "id": "534db5db10fc827a",
   "execution_count": 39,
   "outputs": []
  },
  {
   "cell_type": "markdown",
   "source": [
    "## Main"
   ],
   "metadata": {
    "collapsed": false
   },
   "id": "5ecd5b50d5d59424"
  },
  {
   "cell_type": "code",
   "source": [
    "random.seed(42)\n",
    "\n",
    "data = Measure(0, 0, 0, 0, 0, 0)\n",
    "\n",
    "# the simulation time \n",
    "time = 0\n",
    "\n",
    "# the list of events in the form: (time, type)\n",
    "FES = PriorityQueue()\n",
    "\n",
    "# schedule the first arrival at t=0\n",
    "FES.put((0, \"arrival\"))\n",
    "\n",
    "# simulate until the simulated time reaches a constant\n",
    "while time < SIM_TIME:\n",
    "    (time, event_type) = FES.get()\n",
    "\n",
    "    if event_type == \"arrival\":\n",
    "        arrival(time, FES, MMm)\n",
    "\n",
    "    elif event_type == \"departure\":\n",
    "        departure(time, FES, MMm)\n",
    "\n",
    "# print output data\n",
    "print(\"MEASUREMENTS \\n\\nNo. of users in the queue:\", users, \"\\nNo. of arrivals =\",\n",
    "      data.arr, \"- No. of departures =\", data.dep)\n",
    "\n",
    "print(\"Load: \", SERVICE / ARRIVAL)\n",
    "print(\"\\nArrival rate: \", data.arr / time, \" - Departure rate: \", data.dep / time)\n",
    "print(\"Loss rate: \", data.los / time, \" - Packets loss: \", data.los)\n",
    "\n",
    "print(\"\\nAverage number of users: \", data.ut / time)\n",
    "\n",
    "print(\"Average delay: \", data.delay / data.dep)\n",
    "print(\"Actual queue size: \", len(MMm.queue_size()))\n",
    "\n",
    "if MMm.queue_size() > 0:\n",
    "    print(\"Arrival time of the last element in the queue:\", MMm.queue[-1].arrival_time)\n"
   ],
   "metadata": {
    "collapsed": false,
    "ExecuteTime": {
     "end_time": "2024-04-10T18:17:45.612135Z",
     "start_time": "2024-04-10T18:17:45.584699Z"
    }
   },
   "id": "441563e8ba5cb8e1",
   "execution_count": 40,
   "outputs": []
  },
  {
   "cell_type": "code",
   "source": [],
   "metadata": {
    "collapsed": false
   },
   "id": "a6b8ca8f4872a64a",
   "execution_count": null,
   "outputs": []
  }
 ],
 "metadata": {
  "kernelspec": {
   "display_name": "Python 3",
   "language": "python",
   "name": "python3"
  },
  "language_info": {
   "codemirror_mode": {
    "name": "ipython",
    "version": 2
   },
   "file_extension": ".py",
   "mimetype": "text/x-python",
   "name": "python",
   "nbconvert_exporter": "python",
   "pygments_lexer": "ipython2",
   "version": "2.7.6"
  }
 },
 "nbformat": 4,
 "nbformat_minor": 5
}
